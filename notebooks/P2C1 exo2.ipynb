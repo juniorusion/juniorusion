{
  "cells": [
    {
      "cell_type": "markdown",
      "metadata": {
        "id": "view-in-github",
        "colab_type": "text"
      },
      "source": [
        "<a href=\"https://colab.research.google.com/github/juniorusion/juniorusion/blob/main/notebooks/P2C1%20exo2.ipynb\" target=\"_parent\"><img src=\"https://colab.research.google.com/assets/colab-badge.svg\" alt=\"Open In Colab\"/></a>"
      ]
    },
    {
      "cell_type": "markdown",
      "metadata": {
        "id": "sAwEQ-CR7C3x"
      },
      "source": [
        "![openclassrooms](https://s3.eu-west-1.amazonaws.com/course.oc-static.com/courses/6204541/1+HnqdJ-5ofxiPP9HIxdNdpw.jpeg)\n",
        "\n",
        "# Initiez-vous à Python pour l'analyse de données\n",
        "\n",
        "## Déclarez une variable\n",
        "\n",
        "1. Exécutez le code suivant pour afficher la valeur de nos économies\n",
        "2. Modifiez la ligne `economies = economies + 500` en dessous du `# A FAIRE` en commentaire, en utilisant l'opérateur simplifié `+=`\n",
        "3. Exécutez le code à nouveau pour voir le résultat du calcul"
      ]
    },
    {
      "cell_type": "code",
      "execution_count": 1,
      "metadata": {
        "id": "g-b26VOQ7C3y",
        "outputId": "c6d6d01a-8de3-4856-f2dc-9a9c5f453604",
        "colab": {
          "base_uri": "https://localhost:8080/"
        }
      },
      "outputs": [
        {
          "output_type": "stream",
          "name": "stdout",
          "text": [
            "Vos économies sont de:  3500\n"
          ]
        }
      ],
      "source": [
        "compte = 200\n",
        "economies = 3000\n",
        "\n",
        "# A FAIRE: modifiez la ligne suivante avec l'opérateur simplifié +=\n",
        "economies += 500\n",
        "\n",
        "print(\"Vos économies sont de: \", economies)"
      ]
    }
  ],
  "metadata": {
    "kernelspec": {
      "display_name": "Python 3",
      "language": "python",
      "name": "python3"
    },
    "language_info": {
      "codemirror_mode": {
        "name": "ipython",
        "version": 3
      },
      "file_extension": ".py",
      "mimetype": "text/x-python",
      "name": "python",
      "nbconvert_exporter": "python",
      "pygments_lexer": "ipython3",
      "version": "3.8.5"
    },
    "colab": {
      "provenance": [],
      "include_colab_link": true
    }
  },
  "nbformat": 4,
  "nbformat_minor": 0
}